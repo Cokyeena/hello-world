{
 "cells": [
  {
   "cell_type": "code",
   "execution_count": 2,
   "metadata": {},
   "outputs": [
    {
     "name": "stdout",
     "output_type": "stream",
     "text": [
      "8.6\n"
     ]
    }
   ],
   "source": [
    "a = 3 #정수형\n",
    "b = 5.6 #실수형\n",
    "c = a + b #사칙연산\n",
    "print(c)"
   ]
  },
  {
   "cell_type": "code",
   "execution_count": 12,
   "metadata": {},
   "outputs": [
    {
     "name": "stdout",
     "output_type": "stream",
     "text": [
      "27\n"
     ]
    }
   ],
   "source": [
    "a = 3\n",
    "b = 3\n",
    "c = a ** b #제곱 기호\n",
    "print(c)"
   ]
  },
  {
   "cell_type": "code",
   "execution_count": 13,
   "metadata": {},
   "outputs": [
    {
     "name": "stdout",
     "output_type": "stream",
     "text": [
      "2\n",
      "2.5\n",
      "2\n"
     ]
    }
   ],
   "source": [
    "a = 10\n",
    "b = 4\n",
    "c = a % b #나머지 값\n",
    "print(c)\n",
    "d = a / b #나눈 값\n",
    "print(d)\n",
    "e = a // b #몫 값\n",
    "print(e)"
   ]
  },
  {
   "cell_type": "code",
   "execution_count": 4,
   "metadata": {},
   "outputs": [
    {
     "name": "stdout",
     "output_type": "stream",
     "text": [
      "127\n",
      "2748\n"
     ]
    }
   ],
   "source": [
    "a = 0o177 #8진수\n",
    "b = 0xabc #16진수\n",
    "print(a)\n",
    "print(b)"
   ]
  },
  {
   "cell_type": "code",
   "execution_count": 9,
   "metadata": {},
   "outputs": [
    {
     "name": "stdout",
     "output_type": "stream",
     "text": [
      "Life is too short, You need Python.\n",
      "Life is too short, You need Python.\n",
      "Life is too short, You need Python.\n",
      "Life is too short, You need Python.\n"
     ]
    }
   ],
   "source": [
    "a = \"Life is too short, You need Python.\" #문자열\n",
    "print(a)\n",
    "a = 'Life is too short, You need Python.'\n",
    "print(a)\n",
    "a = \"\"\"Life is too short, You need Python.\"\"\"\n",
    "print(a)\n",
    "a = '''Life is too short, You need Python.'''\n",
    "print(a)"
   ]
  },
  {
   "cell_type": "code",
   "execution_count": 11,
   "metadata": {},
   "outputs": [
    {
     "name": "stdout",
     "output_type": "stream",
     "text": [
      "Python's favorite food is perl.\n",
      "\"Python\" is super easy.\n"
     ]
    }
   ],
   "source": [
    "a = \"Python's favorite food is perl.\"\n",
    "print(a)\n",
    "a = '\"Python\" is super easy.'\n",
    "print(a)"
   ]
  },
  {
   "cell_type": "code",
   "execution_count": 15,
   "metadata": {},
   "outputs": [
    {
     "name": "stdout",
     "output_type": "stream",
     "text": [
      "Life is too short.\n",
      "You need Python.\n"
     ]
    }
   ],
   "source": [
    "a = \"Life is too short.\\nYou need Python.\"\n",
    "print(a)"
   ]
  },
  {
   "cell_type": "code",
   "execution_count": 20,
   "metadata": {},
   "outputs": [
    {
     "name": "stdout",
     "output_type": "stream",
     "text": [
      "Life is too short.\n",
      "You need Python.\n"
     ]
    }
   ],
   "source": [
    "a = '''Life is too short.\n",
    "You need Python.''' #따옴표 세 번에서 줄바꿈\n",
    "print(a)"
   ]
  },
  {
   "cell_type": "code",
   "execution_count": 22,
   "metadata": {},
   "outputs": [
    {
     "name": "stdout",
     "output_type": "stream",
     "text": [
      "Life is too short.\tYou need Python\n"
     ]
    }
   ],
   "source": [
    "a = \"Life is too short.\\tYou need Python.\" #\\t는 탭\n",
    "print(a)"
   ]
  },
  {
   "cell_type": "code",
   "execution_count": 23,
   "metadata": {},
   "outputs": [
    {
     "name": "stdout",
     "output_type": "stream",
     "text": [
      "Life is too short.\\You need Python.\n"
     ]
    }
   ],
   "source": [
    "a = \"Life is too short.\\\\You need Python.\" #\\쓸 땐 \\\\\n",
    "print(a)"
   ]
  },
  {
   "cell_type": "code",
   "execution_count": 25,
   "metadata": {},
   "outputs": [
    {
     "name": "stdout",
     "output_type": "stream",
     "text": [
      "Python is fun!\n"
     ]
    }
   ],
   "source": [
    "head = \"Python\"\n",
    "body = \" \"\n",
    "tail = \"is fun!\"\n",
    "print(head+body+tail)"
   ]
  },
  {
   "cell_type": "code",
   "execution_count": 26,
   "metadata": {},
   "outputs": [
    {
     "name": "stdout",
     "output_type": "stream",
     "text": [
      "PythonPython\n"
     ]
    }
   ],
   "source": [
    "a = \"Python\"\n",
    "b = a * 2\n",
    "print(b)"
   ]
  },
  {
   "cell_type": "code",
   "execution_count": 27,
   "metadata": {},
   "outputs": [
    {
     "name": "stdout",
     "output_type": "stream",
     "text": [
      "Life is too short\n"
     ]
    },
    {
     "data": {
      "text/plain": [
       "17"
      ]
     },
     "execution_count": 27,
     "metadata": {},
     "output_type": "execute_result"
    }
   ],
   "source": [
    "a = \"Life is too short\"\n",
    "print(a)\n",
    "len(a) #글자 수"
   ]
  },
  {
   "cell_type": "code",
   "execution_count": 36,
   "metadata": {},
   "outputs": [
    {
     "data": {
      "text/plain": [
       "'Ly'"
      ]
     },
     "execution_count": 36,
     "metadata": {},
     "output_type": "execute_result"
    }
   ],
   "source": [
    "a = \"Life is too short, You need Python\"\n",
    "a[0]+a[-5]"
   ]
  },
  {
   "cell_type": "code",
   "execution_count": 47,
   "metadata": {},
   "outputs": [
    {
     "data": {
      "text/plain": [
       "'You need'"
      ]
     },
     "execution_count": 47,
     "metadata": {},
     "output_type": "execute_result"
    }
   ],
   "source": [
    "a = \"Life is too short, You need Python\"\n",
    "a[19:-7]"
   ]
  },
  {
   "cell_type": "code",
   "execution_count": 48,
   "metadata": {},
   "outputs": [
    {
     "name": "stdout",
     "output_type": "stream",
     "text": [
      "20210628\n",
      "Sunny\n"
     ]
    }
   ],
   "source": [
    "a = \"20210628Sunny\"\n",
    "date = a[:8]\n",
    "weather = a[8:]\n",
    "print(date)\n",
    "print(weather)"
   ]
  },
  {
   "cell_type": "code",
   "execution_count": 1,
   "metadata": {},
   "outputs": [
    {
     "data": {
      "text/plain": [
       "'I eat 3 apples.'"
      ]
     },
     "execution_count": 1,
     "metadata": {},
     "output_type": "execute_result"
    }
   ],
   "source": [
    "\"I eat %d apples.\" %3"
   ]
  },
  {
   "cell_type": "code",
   "execution_count": 3,
   "metadata": {},
   "outputs": [
    {
     "data": {
      "text/plain": [
       "'I eat five apples.'"
      ]
     },
     "execution_count": 3,
     "metadata": {},
     "output_type": "execute_result"
    }
   ],
   "source": [
    "\"I eat %s apples.\" %\"five\""
   ]
  },
  {
   "cell_type": "code",
   "execution_count": 4,
   "metadata": {},
   "outputs": [
    {
     "data": {
      "text/plain": [
       "'I eat 3 apples.'"
      ]
     },
     "execution_count": 4,
     "metadata": {},
     "output_type": "execute_result"
    }
   ],
   "source": [
    "number = 3\n",
    "\"I eat %d apples.\" %number"
   ]
  },
  {
   "cell_type": "code",
   "execution_count": 7,
   "metadata": {},
   "outputs": [
    {
     "data": {
      "text/plain": [
       "'I ate 10 apples, so I was sick for three days.'"
      ]
     },
     "execution_count": 7,
     "metadata": {},
     "output_type": "execute_result"
    }
   ],
   "source": [
    "number = 10\n",
    "day = \"three\"\n",
    "\"I ate %d apples, so I was sick for %s days.\" %(number,day)"
   ]
  },
  {
   "cell_type": "code",
   "execution_count": 8,
   "metadata": {},
   "outputs": [
    {
     "data": {
      "text/plain": [
       "'I ate 10 apples, so I was sick for three days which were six hours.'"
      ]
     },
     "execution_count": 8,
     "metadata": {},
     "output_type": "execute_result"
    }
   ],
   "source": [
    "number = 10\n",
    "day = \"three\"\n",
    "time = \"six\"\n",
    "\"I ate %d apples, so I was sick for %s days which were %s hours.\" %(number,day,time)"
   ]
  },
  {
   "cell_type": "code",
   "execution_count": 9,
   "metadata": {},
   "outputs": [
    {
     "data": {
      "text/plain": [
       "'Error is 98%.'"
      ]
     },
     "execution_count": 9,
     "metadata": {},
     "output_type": "execute_result"
    }
   ],
   "source": [
    "\"Error is %d%%.\" %98"
   ]
  },
  {
   "cell_type": "code",
   "execution_count": 10,
   "metadata": {},
   "outputs": [
    {
     "data": {
      "text/plain": [
       "'        hi'"
      ]
     },
     "execution_count": 10,
     "metadata": {},
     "output_type": "execute_result"
    }
   ],
   "source": [
    "\"%10s\" %\"hi\""
   ]
  },
  {
   "cell_type": "code",
   "execution_count": 11,
   "metadata": {},
   "outputs": [
    {
     "data": {
      "text/plain": [
       "'hi        jane'"
      ]
     },
     "execution_count": 11,
     "metadata": {},
     "output_type": "execute_result"
    }
   ],
   "source": [
    "\"%-10sjane\" %\"hi\""
   ]
  },
  {
   "cell_type": "code",
   "execution_count": 12,
   "metadata": {},
   "outputs": [
    {
     "data": {
      "text/plain": [
       "'3.4213'"
      ]
     },
     "execution_count": 12,
     "metadata": {},
     "output_type": "execute_result"
    }
   ],
   "source": [
    "\"%0.4f\" %3.42134234"
   ]
  },
  {
   "cell_type": "code",
   "execution_count": 16,
   "metadata": {},
   "outputs": [
    {
     "data": {
      "text/plain": [
       "'I eat 3 apples'"
      ]
     },
     "execution_count": 16,
     "metadata": {},
     "output_type": "execute_result"
    }
   ],
   "source": [
    "#format 함수 포매팅\n",
    "\n",
    "a = \"I eat {0} apples\"\n",
    "a.format(3)"
   ]
  },
  {
   "cell_type": "code",
   "execution_count": 19,
   "metadata": {},
   "outputs": [
    {
     "data": {
      "text/plain": [
       "'I eat five apples and six bananas'"
      ]
     },
     "execution_count": 19,
     "metadata": {},
     "output_type": "execute_result"
    }
   ],
   "source": [
    "\"I eat {0} apples and {1} bananas\".format(\"five\",\"six\")"
   ]
  },
  {
   "cell_type": "code",
   "execution_count": 20,
   "metadata": {},
   "outputs": [
    {
     "data": {
      "text/plain": [
       "'I eat 3 apples'"
      ]
     },
     "execution_count": 20,
     "metadata": {},
     "output_type": "execute_result"
    }
   ],
   "source": [
    "number = 3\n",
    "\"I eat {0} apples\".format(number)"
   ]
  },
  {
   "cell_type": "code",
   "execution_count": 21,
   "metadata": {},
   "outputs": [
    {
     "data": {
      "text/plain": [
       "'I eat three apples'"
      ]
     },
     "execution_count": 21,
     "metadata": {},
     "output_type": "execute_result"
    }
   ],
   "source": [
    "number = \"three\"\n",
    "\"I eat {0} apples\".format(number)"
   ]
  },
  {
   "cell_type": "code",
   "execution_count": 23,
   "metadata": {},
   "outputs": [
    {
     "data": {
      "text/plain": [
       "'I ate 10 apples, so I was sick for 3 days.'"
      ]
     },
     "execution_count": 23,
     "metadata": {},
     "output_type": "execute_result"
    }
   ],
   "source": [
    "a = \"I ate {number} apples, so I was sick for {day} days.\"\n",
    "a.format(number=10, day=3)"
   ]
  },
  {
   "cell_type": "code",
   "execution_count": 2,
   "metadata": {},
   "outputs": [
    {
     "data": {
      "text/plain": [
       "'I ate five apples, so I was sick for eleven days and ten hours'"
      ]
     },
     "execution_count": 2,
     "metadata": {},
     "output_type": "execute_result"
    }
   ],
   "source": [
    "a = \"I ate {0} apples, so I was sick for {day} days and {1} hours\"\n",
    "a.format(\"five\",\"ten\",day = \"eleven\")"
   ]
  },
  {
   "cell_type": "code",
   "execution_count": 8,
   "metadata": {},
   "outputs": [
    {
     "name": "stdout",
     "output_type": "stream",
     "text": [
      "hi        \n",
      "        hi\n",
      "    hi    \n"
     ]
    }
   ],
   "source": [
    "a = \"{0:<10}\" #왼쪽 정렬\n",
    "a = a.format(\"hi\")\n",
    "print(a)\n",
    "\n",
    "b = \"{0:>10}\" #오른쪽 정렬\n",
    "b = b.format(\"hi\")\n",
    "print(b)\n",
    "\n",
    "c = \"{0:^10}\" #가운데 정렬\n",
    "c = c.format(\"hi\")\n",
    "print(c)"
   ]
  },
  {
   "cell_type": "code",
   "execution_count": 9,
   "metadata": {},
   "outputs": [
    {
     "name": "stdout",
     "output_type": "stream",
     "text": [
      "hi--------\n",
      "!!!!!!!!hi\n",
      "::::hi::::\n"
     ]
    }
   ],
   "source": [
    "#공백 채우기\n",
    "\n",
    "a = \"{0:-<10}\"\n",
    "a = a.format(\"hi\")\n",
    "print(a)\n",
    "\n",
    "b = \"{0:!>10}\"\n",
    "b = b.format(\"hi\")\n",
    "print(b)\n",
    "\n",
    "c = \"{0::^10}\"\n",
    "c = c.format(\"hi\")\n",
    "print(c)"
   ]
  },
  {
   "cell_type": "code",
   "execution_count": 14,
   "metadata": {},
   "outputs": [
    {
     "data": {
      "text/plain": [
       "'대략     3.1416'"
      ]
     },
     "execution_count": 14,
     "metadata": {},
     "output_type": "execute_result"
    }
   ],
   "source": [
    "y = 3.14159265358979\n",
    "z = \"대략 {0:10.4f}\"\n",
    "z.format(y)"
   ]
  },
  {
   "cell_type": "code",
   "execution_count": 15,
   "metadata": {},
   "outputs": [
    {
     "data": {
      "text/plain": [
       "'{and} they are {interesting}'"
      ]
     },
     "execution_count": 15,
     "metadata": {},
     "output_type": "execute_result"
    }
   ],
   "source": [
    "a = \"{{and}} they are {{interesting}}\"\n",
    "a.format()"
   ]
  },
  {
   "cell_type": "code",
   "execution_count": 30,
   "metadata": {},
   "outputs": [
    {
     "name": "stdout",
     "output_type": "stream",
     "text": [
      "My name is 신승호 and I'm 20.\n",
      "My name is Jason and I'm 19\n"
     ]
    }
   ],
   "source": [
    "#f 문자열 포매팅\n",
    "\n",
    "name = \"신승호\"\n",
    "age = \"20\"\n",
    "a = f\"My name is {name} and I'm {age}.\"\n",
    "print(a)\n",
    "\n",
    "eng_name = \"Jason\"\n",
    "eng_age = 18\n",
    "b = f\"My name is {eng_name} and I'm {eng_age+1}\"\n",
    "print(b)"
   ]
  },
  {
   "cell_type": "code",
   "execution_count": 32,
   "metadata": {},
   "outputs": [
    {
     "data": {
      "text/plain": [
       "2"
      ]
     },
     "execution_count": 32,
     "metadata": {},
     "output_type": "execute_result"
    }
   ],
   "source": [
    "#문자 개수 세기\n",
    "\n",
    "a = \"hobby\"\n",
    "a.count(\"b\")"
   ]
  },
  {
   "cell_type": "code",
   "execution_count": 36,
   "metadata": {},
   "outputs": [
    {
     "name": "stdout",
     "output_type": "stream",
     "text": [
      "6\n",
      "-1\n"
     ]
    }
   ],
   "source": [
    "#글자 위치 찾기(find)\n",
    "\n",
    "a = \"Valar Morghulis Valar Dohaeris\"\n",
    "print(a.find(\"M\"))\n",
    "print(a.find(\"k\"))"
   ]
  },
  {
   "cell_type": "code",
   "execution_count": 124,
   "metadata": {},
   "outputs": [
    {
     "name": "stdout",
     "output_type": "stream",
     "text": [
      "6\n"
     ]
    }
   ],
   "source": [
    "#글자 위치 찾기(index)\n",
    "\n",
    "a = \"Valar Morghulis Valar Dohaeris\"\n",
    "print(a.index(\"M\"))\n",
    "#print(a.index(\"k\"))"
   ]
  },
  {
   "cell_type": "code",
   "execution_count": 45,
   "metadata": {},
   "outputs": [
    {
     "name": "stdout",
     "output_type": "stream",
     "text": [
      "수,우,미,양,가\n",
      "lundi,mardi,mercredi,jeudi\n"
     ]
    }
   ],
   "source": [
    "#문자열 삽입\n",
    "\n",
    "comma = \",\"\n",
    "\n",
    "a = \"수우미양가\"\n",
    "print(comma.join(a))\n",
    "\n",
    "b = [\"lundi\",\"mardi\",\"mercredi\",\"jeudi\"]\n",
    "print(comma.join(b))"
   ]
  },
  {
   "cell_type": "code",
   "execution_count": 47,
   "metadata": {},
   "outputs": [
    {
     "name": "stdout",
     "output_type": "stream",
     "text": [
      "FUCK OFF\n",
      "piss off\n"
     ]
    }
   ],
   "source": [
    "#대소문자 바꾸기\n",
    "\n",
    "a = \"fuck OFF\"\n",
    "print(a.upper())\n",
    "\n",
    "b = \"piss OFF\"\n",
    "print(b.lower())"
   ]
  },
  {
   "cell_type": "code",
   "execution_count": 85,
   "metadata": {},
   "outputs": [
    {
     "name": "stdout",
     "output_type": "stream",
     "text": [
      "blep    \n",
      "    blep\n",
      "blep\n"
     ]
    }
   ],
   "source": [
    "#공백 지우기\n",
    "\n",
    "a = \"    blep    \"\n",
    "print(a.lstrip())\n",
    "\n",
    "b = \"    blep    \"\n",
    "print(b.rstrip())\n",
    "\n",
    "c = \"    blep    \"\n",
    "print(c.strip())"
   ]
  },
  {
   "cell_type": "code",
   "execution_count": 86,
   "metadata": {},
   "outputs": [
    {
     "name": "stdout",
     "output_type": "stream",
     "text": [
      "I hate her.\n",
      "I'd fuck her.\n"
     ]
    }
   ],
   "source": [
    "#문자열 바꾸기\n",
    "\n",
    "a = \"I hate her.\"\n",
    "print(a)\n",
    "print(a.replace(\" hate\",\"'d fuck\"))"
   ]
  },
  {
   "cell_type": "code",
   "execution_count": 56,
   "metadata": {},
   "outputs": [
    {
     "name": "stdout",
     "output_type": "stream",
     "text": [
      "['Remember', 'me.', 'Try', 'your', 'best.', 'Maybe', 'we', 'can.']\n",
      "['Желание', 'Ржавый', 'Семнадцать', 'Рассвет', 'Печь', 'Девять', 'Добросердечный', 'Возвращение на родину', 'Один', 'Товарный вагон']\n"
     ]
    }
   ],
   "source": [
    "#문자열 나누기\n",
    "\n",
    "a = \"Remember me. Try your best. Maybe we can.\"\n",
    "print(a.split())\n",
    "\n",
    "b = \"Желание, Ржавый, Семнадцать, Рассвет, Печь, Девять, Добросердечный, Возвращение на родину, Один, Товарный вагон\"\n",
    "print(b.split(\", \"))"
   ]
  },
  {
   "cell_type": "code",
   "execution_count": 59,
   "metadata": {},
   "outputs": [
    {
     "name": "stdout",
     "output_type": "stream",
     "text": [
      "5\n",
      "13\n"
     ]
    }
   ],
   "source": [
    "# 리스트 인덱싱\n",
    "\n",
    "prime = [2,3,5,7,11]\n",
    "print(prime[2])\n",
    "print(prime[0]+prime[-1])"
   ]
  },
  {
   "cell_type": "code",
   "execution_count": 61,
   "metadata": {},
   "outputs": [
    {
     "name": "stdout",
     "output_type": "stream",
     "text": [
      "1\n",
      "['a', 'b', 'c']\n",
      "b\n"
     ]
    }
   ],
   "source": [
    "a = [1,2,3,[\"a\",\"b\",\"c\"]]\n",
    "print(a[0])\n",
    "print(a[3])\n",
    "print(a[3][1])"
   ]
  },
  {
   "cell_type": "code",
   "execution_count": 72,
   "metadata": {},
   "outputs": [
    {
     "name": "stdout",
     "output_type": "stream",
     "text": [
      "[2, 3, 4]\n",
      "[1, 2, [3, 4, 5]]\n"
     ]
    }
   ],
   "source": [
    "# 리스트 슬라이싱\n",
    "\n",
    "a = [1,2,3,4,5]\n",
    "print(a[1:4])\n",
    "\n",
    "b = [1,2,[3,4,5],6,7]\n",
    "print(b[:3])"
   ]
  },
  {
   "cell_type": "code",
   "execution_count": 75,
   "metadata": {},
   "outputs": [
    {
     "name": "stdout",
     "output_type": "stream",
     "text": [
      "[1, 2, 3, 4, 5, 6]\n",
      "[1, 2, 3, 1, 2, 3]\n",
      "4\n"
     ]
    }
   ],
   "source": [
    "# 리스트 연산\n",
    "\n",
    "a = [1,2,3]\n",
    "b = [4,5,6]\n",
    "c = a + b # 리스트 더하기\n",
    "print(c)\n",
    "\n",
    "a = [1,2,3]\n",
    "a = a * 2 # 리스트 반복하기\n",
    "print(a)\n",
    "\n",
    "a = [1,2,3,456] # 리스트 길이 구하기\n",
    "print(len(a))"
   ]
  },
  {
   "cell_type": "code",
   "execution_count": 84,
   "metadata": {},
   "outputs": [
    {
     "name": "stdout",
     "output_type": "stream",
     "text": [
      "[1, 2, 4]\n",
      "[1, 4, 5]\n",
      "[1, 3]\n",
      "[3]\n"
     ]
    }
   ],
   "source": [
    "# 리스트 수정 및 삭제\n",
    "\n",
    "a = [1,2,3]\n",
    "a[2] = 4\n",
    "print(a)\n",
    "\n",
    "b = [1,2,3]\n",
    "b[1:3] = [4,5]\n",
    "print(b)\n",
    "\n",
    "c = [1,2,3]\n",
    "del c[1]\n",
    "print(c)\n",
    "\n",
    "d = [1,2,3]\n",
    "del d[:2]\n",
    "print(d)"
   ]
  },
  {
   "cell_type": "code",
   "execution_count": 123,
   "metadata": {},
   "outputs": [
    {
     "name": "stdout",
     "output_type": "stream",
     "text": [
      "[1, 2, 3, 4]\n",
      "[1, 2, 3, 'these are numbers']\n",
      "[1, 2, 3, [4, 5, 6]]\n",
      "[1, 2, 3, 3, 5, 6, 78, 100]\n",
      "['a', 'b', 'blue-ray', 'cassette', 'cd', 'dvd', 'vcr', 'vhs']\n",
      "[3, 'blue', 56, 2, 'red']\n",
      "[1, 1.5, 2, 3]\n",
      "[1, 2, 1, 2, 3]\n",
      "2\n",
      "[1, 3]\n",
      "2\n",
      "[1, 2, 3, 4, 5]\n",
      "[1, 2, 3, 4, 5, 6, 7]\n",
      "[1, 2, 3, 4, 5, 6, 7, 8, 9, 10]\n"
     ]
    }
   ],
   "source": [
    "#리스트 관련 함수\n",
    "\n",
    "a = [1,2,3]\n",
    "a.append(4)\n",
    "print(a)\n",
    "\n",
    "b = [1,2,3]\n",
    "b.append(\"these are numbers\")\n",
    "print(b)\n",
    "\n",
    "c = [1,2,3]\n",
    "c.append([4,5,6])\n",
    "print(c)\n",
    "\n",
    "d = [1,5,6,3,2,78,3,100]\n",
    "d.sort()\n",
    "print(d)\n",
    "\n",
    "e = [\"a\",\"b\",\"cd\",\"dvd\",\"cassette\",\"blue-ray\",\"vhs\",\"vcr\"]\n",
    "e.sort()\n",
    "print(e)\n",
    "\n",
    "f = [\"red\",2,56,\"blue\",3]\n",
    "f.reverse()\n",
    "print(f)\n",
    "\n",
    "#g = [\"a\",\"b\",\"cd\",\"dvd\",\"cassette\",\"blue-ray\",\"vhs\",\"vcr\"]\n",
    "#g.index(\"vhs\")\n",
    "#g.index(\"betamax\")\n",
    "\n",
    "h = [1,2,3]\n",
    "h.insert(1,1.5)\n",
    "print(h)\n",
    "\n",
    "i = [1,2,3,1,2,3]\n",
    "i.remove(3)\n",
    "print(i)\n",
    "\n",
    "j = [1,2,3]\n",
    "print(j.pop(1)) # pop 함수는 삭제할 자료를 한번 돌려주고 리스트에서 삭제한다.\n",
    "print(j)\n",
    "\n",
    "k = [1,2,3,4,1]\n",
    "print(k.count(1))\n",
    "\n",
    "l = [1,2,3]\n",
    "l.extend([4,5])\n",
    "print(l)\n",
    "\n",
    "m = [6,7]\n",
    "l.extend(m)\n",
    "print(l)\n",
    "\n",
    "l += [8,9,10]\n",
    "print(l)"
   ]
  },
  {
   "cell_type": "code",
   "execution_count": 115,
   "metadata": {},
   "outputs": [
    {
     "name": "stdout",
     "output_type": "stream",
     "text": [
      "[1, 1.5, 2, 3]\n",
      "[1, 2, 1, 2, 3]\n",
      "2\n",
      "[1, 3]\n"
     ]
    },
    {
     "data": {
      "text/plain": [
       "2"
      ]
     },
     "execution_count": 115,
     "metadata": {},
     "output_type": "execute_result"
    }
   ],
   "source": []
  },
  {
   "cell_type": "code",
   "execution_count": null,
   "metadata": {},
   "outputs": [],
   "source": []
  }
 ],
 "metadata": {
  "kernelspec": {
   "display_name": "Python 3",
   "language": "python",
   "name": "python3"
  },
  "language_info": {
   "codemirror_mode": {
    "name": "ipython",
    "version": 3
   },
   "file_extension": ".py",
   "mimetype": "text/x-python",
   "name": "python",
   "nbconvert_exporter": "python",
   "pygments_lexer": "ipython3",
   "version": "3.8.5"
  }
 },
 "nbformat": 4,
 "nbformat_minor": 4
}
